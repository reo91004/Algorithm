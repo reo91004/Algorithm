{
 "cells": [
  {
   "cell_type": "markdown",
   "id": "a4b73649",
   "metadata": {},
   "source": [
    "# Python Standard Library -  데이터구조"
   ]
  },
  {
   "cell_type": "markdown",
   "id": "59bceb9f",
   "metadata": {},
   "source": [
    "## enum\n",
    "\n",
    "#### Enumeration Type (TBF)"
   ]
  },
  {
   "cell_type": "markdown",
   "id": "9418753a",
   "metadata": {},
   "source": [
    "## collections - Container"
   ]
  },
  {
   "cell_type": "markdown",
   "id": "945fd3f6",
   "metadata": {},
   "source": [
    "#### ChainMap: Search Multiple Dictionaries"
   ]
  },
  {
   "cell_type": "code",
   "execution_count": null,
   "id": "b788aeac",
   "metadata": {},
   "outputs": [],
   "source": [
    "# Accessing Values\n",
    "\n",
    "\"\"\"Reading values from a ChainMap\n",
    "\"\"\"\n",
    "\n",
    "import collections\n",
    "\n",
    "a = {'a': 'A', 'c': 'C'}\n",
    "b = {'b': 'B', 'c': 'D'}\n",
    "\n",
    "m = collections.ChainMap(a, b)\n",
    "\n",
    "print('Individual Values')\n",
    "print('a = {}'.format(m['a']))\n",
    "print('b = {}'.format(m['b']))\n",
    "print('c = {}'.format(m['c']))\n",
    "print()\n",
    "\n",
    "print('Keys = {}'.format(list(m.keys())))\n",
    "print('Values = {}'.format(list(m.values())))\n",
    "print()\n",
    "\n",
    "print('Items:')\n",
    "for k, v in m.items():\n",
    "    print('{} = {}'.format(k, v))\n",
    "print()\n",
    "\n",
    "print('\"d\" in m: {}'.format(('d' in m)))\n"
   ]
  },
  {
   "cell_type": "code",
   "execution_count": 1,
   "id": "4c23b8b2",
   "metadata": {},
   "outputs": [
    {
     "name": "stdout",
     "output_type": "stream",
     "text": [
      "[{'a': 'A', 'c': 'C'}, {'b': 'B', 'c': 'D'}]\n",
      "c = C\n",
      "\n",
      "[{'b': 'B', 'c': 'D'}, {'a': 'A', 'c': 'C'}]\n",
      "c = D\n"
     ]
    }
   ],
   "source": [
    "# reorder\n",
    "\n",
    "import collections\n",
    "\n",
    "a = {'a': 'A', 'c': 'C'}\n",
    "b = {'b': 'B', 'c': 'D'}\n",
    "\n",
    "m = collections.ChainMap(a, b)\n",
    "\n",
    "print(m.maps)\n",
    "print('c = {}\\n'.format(m['c']))\n",
    "\n",
    "# reverse the list\n",
    "m.maps = list(reversed(m.maps))\n",
    "\n",
    "print(m.maps)\n",
    "print('c = {}'.format(m['c']))\n"
   ]
  },
  {
   "cell_type": "markdown",
   "id": "cb78fbe3",
   "metadata": {},
   "source": [
    "#### 2.2.1.3 Updating Values"
   ]
  },
  {
   "cell_type": "code",
   "execution_count": 2,
   "id": "2537905a",
   "metadata": {},
   "outputs": [
    {
     "name": "stdout",
     "output_type": "stream",
     "text": [
      "Before: C\n",
      "After : E\n"
     ]
    }
   ],
   "source": [
    "# Update Values\n",
    "\n",
    "import collections\n",
    "\n",
    "a = {'a': 'A', 'c': 'C'}\n",
    "b = {'b': 'B', 'c': 'D'}\n",
    "\n",
    "m = collections.ChainMap(a, b)\n",
    "print('Before: {}'.format(m['c']))\n",
    "a['c'] = 'E'\n",
    "print('After : {}'.format(m['c']))\n"
   ]
  },
  {
   "cell_type": "markdown",
   "id": "7cbd3189",
   "metadata": {},
   "source": [
    "### Counter: Hashable Objects의 counting"
   ]
  },
  {
   "cell_type": "code",
   "execution_count": 3,
   "id": "d84b17e9",
   "metadata": {},
   "outputs": [
    {
     "name": "stdout",
     "output_type": "stream",
     "text": [
      "Counter({'b': 3, 'a': 2, 'c': 1})\n",
      "Counter({'b': 3, 'a': 2, 'c': 1})\n",
      "Counter({'b': 3, 'a': 2, 'c': 1})\n"
     ]
    }
   ],
   "source": [
    "# 초기화\n",
    "\n",
    "import collections\n",
    "\n",
    "print(collections.Counter(['a', 'b', 'c', 'a', 'b', 'b']))\n",
    "print(collections.Counter({'a': 2, 'b': 3, 'c': 1}))\n",
    "print(collections.Counter(a=2, b=3, c=1))\n"
   ]
  },
  {
   "cell_type": "code",
   "execution_count": 4,
   "id": "b129de8b",
   "metadata": {},
   "outputs": [
    {
     "name": "stdout",
     "output_type": "stream",
     "text": [
      "C1: Counter({'b': 3, 'a': 2, 'c': 1})\n",
      "C2: Counter({'a': 2, 'l': 1, 'p': 1, 'h': 1, 'b': 1, 'e': 1, 't': 1})\n",
      "\n",
      "Combined counts:\n",
      "Counter({'a': 4, 'b': 4, 'c': 1, 'l': 1, 'p': 1, 'h': 1, 'e': 1, 't': 1})\n",
      "\n",
      "Subtraction:\n",
      "Counter({'b': 2, 'c': 1})\n",
      "\n",
      "Intersection (taking positive minimums):\n",
      "Counter({'a': 2, 'b': 1})\n",
      "\n",
      "Union (taking maximums):\n",
      "Counter({'b': 3, 'a': 2, 'c': 1, 'l': 1, 'p': 1, 'h': 1, 'e': 1, 't': 1})\n"
     ]
    }
   ],
   "source": [
    "# Arithematic\n",
    "\n",
    "import collections\n",
    "\n",
    "c1 = collections.Counter(['a', 'b', 'c', 'a', 'b', 'b'])\n",
    "c2 = collections.Counter('alphabet')\n",
    "\n",
    "print('C1:', c1)\n",
    "print('C2:', c2)\n",
    "\n",
    "print('\\nCombined counts:')\n",
    "print(c1 + c2)\n",
    "\n",
    "print('\\nSubtraction:')\n",
    "print(c1 - c2)\n",
    "\n",
    "print('\\nIntersection (taking positive minimums):')\n",
    "print(c1 & c2)\n",
    "\n",
    "print('\\nUnion (taking maximums):')\n",
    "print(c1 | c2)\n"
   ]
  },
  {
   "cell_type": "markdown",
   "id": "dc6bf9f2",
   "metadata": {},
   "source": [
    "### defaultdict: Missing Key에 대해서 Default값 반환"
   ]
  },
  {
   "cell_type": "code",
   "execution_count": 5,
   "id": "a9ffe5f7",
   "metadata": {},
   "outputs": [
    {
     "name": "stdout",
     "output_type": "stream",
     "text": [
      "d: defaultdict(<function default_factory at 0x000001A9706B5D30>, {'foo': 'bar'})\n",
      "foo => bar\n",
      "bar => default value\n"
     ]
    }
   ],
   "source": [
    "# 초기화\n",
    "\n",
    "import collections\n",
    "\n",
    "\n",
    "def default_factory():\n",
    "    return 'default value'\n",
    "\n",
    "\n",
    "d = collections.defaultdict(default_factory, foo='bar')\n",
    "print('d:', d)\n",
    "print('foo =>', d['foo'])\n",
    "print('bar =>', d['bar'])\n"
   ]
  },
  {
   "cell_type": "markdown",
   "id": "896149cc",
   "metadata": {},
   "source": [
    "###  deque: Double-Ended Queue"
   ]
  },
  {
   "cell_type": "code",
   "execution_count": 6,
   "id": "28d70d3e",
   "metadata": {},
   "outputs": [
    {
     "name": "stdout",
     "output_type": "stream",
     "text": [
      "Deque: deque(['a', 'b', 'c', 'd', 'e', 'f', 'g'])\n",
      "Length: 7\n",
      "Left end: a\n",
      "Right end: g\n",
      "remove(c): deque(['a', 'b', 'd', 'e', 'f', 'g'])\n"
     ]
    }
   ],
   "source": [
    "import collections\n",
    "\n",
    "d = collections.deque('abcdefg')\n",
    "print('Deque:', d)\n",
    "print('Length:', len(d))\n",
    "print('Left end:', d[0])\n",
    "print('Right end:', d[-1])\n",
    "\n",
    "d.remove('c')\n",
    "print('remove(c):', d)\n"
   ]
  },
  {
   "cell_type": "code",
   "execution_count": 7,
   "id": "5cb32df9",
   "metadata": {},
   "outputs": [
    {
     "name": "stdout",
     "output_type": "stream",
     "text": [
      "extend    : deque(['a', 'b', 'c', 'd', 'e', 'f', 'g'])\n",
      "append    : deque(['a', 'b', 'c', 'd', 'e', 'f', 'g', 'h'])\n",
      "extendleft: deque([5, 4, 3, 2, 1, 0])\n",
      "appendleft: deque([6, 5, 4, 3, 2, 1, 0])\n"
     ]
    }
   ],
   "source": [
    "# Populating\n",
    "\n",
    "import collections\n",
    "\n",
    "# Add to the right\n",
    "d1 = collections.deque()\n",
    "d1.extend('abcdefg')\n",
    "print('extend    :', d1)\n",
    "d1.append('h')\n",
    "print('append    :', d1)\n",
    "\n",
    "# Add to the left\n",
    "d2 = collections.deque()\n",
    "d2.extendleft(range(6))\n",
    "print('extendleft:', d2)\n",
    "d2.appendleft(6)\n",
    "print('appendleft:', d2)\n"
   ]
  },
  {
   "cell_type": "code",
   "execution_count": 8,
   "id": "5db9b2d9",
   "metadata": {},
   "outputs": [
    {
     "name": "stdout",
     "output_type": "stream",
     "text": [
      "From the right:\n",
      "gfedcba\n",
      "\n",
      "From the left:\n",
      "012345\n"
     ]
    }
   ],
   "source": [
    "# Consuming \n",
    "# deque에서 항목 제거\n",
    "\n",
    "import collections\n",
    "\n",
    "print('From the right:')\n",
    "d = collections.deque('abcdefg')\n",
    "while True:\n",
    "    try:\n",
    "        print(d.pop(), end='')\n",
    "    except IndexError:\n",
    "        break\n",
    "print()\n",
    "\n",
    "print('\\nFrom the left:')\n",
    "d = collections.deque(range(6))\n",
    "while True:\n",
    "    try:\n",
    "        print(d.popleft(), end='')\n",
    "    except IndexError:\n",
    "        break\n",
    "print()\n"
   ]
  },
  {
   "cell_type": "code",
   "execution_count": 9,
   "id": "e3b5f28c",
   "metadata": {},
   "outputs": [
    {
     "name": "stdout",
     "output_type": "stream",
     "text": [
      "n = 17\n",
      "D1: deque([17], maxlen=3)\n",
      "D2: deque([17], maxlen=3)\n",
      "n = 72\n",
      "D1: deque([17, 72], maxlen=3)\n",
      "D2: deque([72, 17], maxlen=3)\n",
      "n = 97\n",
      "D1: deque([17, 72, 97], maxlen=3)\n",
      "D2: deque([97, 72, 17], maxlen=3)\n",
      "n = 8\n",
      "D1: deque([72, 97, 8], maxlen=3)\n",
      "D2: deque([8, 97, 72], maxlen=3)\n",
      "n = 32\n",
      "D1: deque([97, 8, 32], maxlen=3)\n",
      "D2: deque([32, 8, 97], maxlen=3)\n"
     ]
    }
   ],
   "source": [
    "# Queue Size의 제한\n",
    "# Double-ended queue with a maximum length.\n",
    "\n",
    "import collections\n",
    "import random\n",
    "\n",
    "# Set the random seed so we see the same output each time\n",
    "# the script is run.\n",
    "random.seed(1)\n",
    "\n",
    "d1 = collections.deque(maxlen=3)\n",
    "d2 = collections.deque(maxlen=3)\n",
    "\n",
    "for i in range(5):\n",
    "    n = random.randint(0, 100)\n",
    "    print('n =', n)\n",
    "    d1.append(n)\n",
    "    d2.appendleft(n)\n",
    "    print('D1:', d1)\n",
    "    print('D2:', d2)\n"
   ]
  },
  {
   "cell_type": "markdown",
   "id": "b46138cb",
   "metadata": {},
   "source": [
    "### namedtuple: Tuple Subclass with Named Fields"
   ]
  },
  {
   "cell_type": "code",
   "execution_count": null,
   "id": "5e7b7fbe",
   "metadata": {},
   "outputs": [],
   "source": [
    "# 일반 tuple의 이용\n",
    "\n",
    "\n",
    "bob = ('Bob', 30, 'male')\n",
    "print('Representation:', bob)\n",
    "\n",
    "jane = ('Jane', 29, 'female')\n",
    "print('\\nField by index:', jane[0])\n",
    "\n",
    "print('\\nFields by index:')\n",
    "for p in [bob, jane]:\n",
    "    print('{} is a {} year old {}'.format(*p))\n"
   ]
  },
  {
   "cell_type": "code",
   "execution_count": 10,
   "id": "f38a2767",
   "metadata": {},
   "outputs": [
    {
     "name": "stdout",
     "output_type": "stream",
     "text": [
      "\n",
      "Representation: Person(name='Bob', age=30)\n",
      "\n",
      "Field by name: Jane\n",
      "\n",
      "Fields by index:\n",
      "Bob is 30 years old\n",
      "Jane is 29 years old\n"
     ]
    }
   ],
   "source": [
    "# namedtuple 정의\n",
    "\n",
    "import collections\n",
    "\n",
    "Person = collections.namedtuple('Person', 'name age')\n",
    "\n",
    "bob = Person(name='Bob', age=30)\n",
    "print('\\nRepresentation:', bob)\n",
    "\n",
    "jane = Person(name='Jane', age=29)\n",
    "print('\\nField by name:', jane.name)\n",
    "\n",
    "print('\\nFields by index:')\n",
    "for p in [bob, jane]:\n",
    "    print('{} is {} years old'.format(*p))\n"
   ]
  },
  {
   "cell_type": "markdown",
   "id": "f86ddee2",
   "metadata": {},
   "source": [
    "### OrderedDict: Remember the Order Keys Are Added to a Dictionary"
   ]
  },
  {
   "cell_type": "code",
   "execution_count": 12,
   "id": "85fe74cb",
   "metadata": {},
   "outputs": [
    {
     "name": "stdout",
     "output_type": "stream",
     "text": [
      "Regular dictionary:\n",
      "a A\n",
      "b B\n",
      "c C\n",
      "\n",
      "OrderedDict:\n",
      "a A\n",
      "b B\n",
      "c C\n"
     ]
    }
   ],
   "source": [
    "# Iterating over an OrderedDict\n",
    "\n",
    "import collections\n",
    "\n",
    "print('Regular dictionary:')\n",
    "d = {}\n",
    "d['a'] = 'A'\n",
    "d['b'] = 'B'\n",
    "d['c'] = 'C'\n",
    "\n",
    "for k, v in d.items():\n",
    "    print(k, v)\n",
    "\n",
    "print('\\nOrderedDict:')\n",
    "d = collections.OrderedDict()\n",
    "d['a'] = 'A'\n",
    "d['b'] = 'B'\n",
    "d['c'] = 'C'\n",
    "\n",
    "for k, v in d.items():\n",
    "    print(k, v)\n"
   ]
  },
  {
   "cell_type": "markdown",
   "id": "79d3593d",
   "metadata": {},
   "source": [
    "### collections.abc: Abstract Base Classes for Containers"
   ]
  },
  {
   "cell_type": "code",
   "execution_count": null,
   "id": "ef35117b",
   "metadata": {},
   "outputs": [],
   "source": []
  },
  {
   "cell_type": "markdown",
   "id": "230671c9",
   "metadata": {},
   "source": [
    "## array: Sequence of Fixed-Type Data"
   ]
  },
  {
   "cell_type": "markdown",
   "id": "8da9d6fe",
   "metadata": {},
   "source": [
    "### 초기화"
   ]
  },
  {
   "cell_type": "code",
   "execution_count": 13,
   "id": "186ab226",
   "metadata": {},
   "outputs": [
    {
     "name": "stdout",
     "output_type": "stream",
     "text": [
      "As byte string: b'This is the array.'\n",
      "As array      : array('b', [84, 104, 105, 115, 32, 105, 115, 32, 116, 104, 101, 32, 97, 114, 114, 97, 121, 46])\n",
      "As hex        : b'54686973206973207468652061727261792e'\n"
     ]
    }
   ],
   "source": [
    "import array\n",
    "import binascii\n",
    "\n",
    "s = b'This is the array.'\n",
    "a = array.array('b', s)\n",
    "\n",
    "print('As byte string:', s)\n",
    "print('As array      :', a)\n",
    "print('As hex        :', binascii.hexlify(a))\n"
   ]
  },
  {
   "cell_type": "code",
   "execution_count": 14,
   "id": "24610fc0",
   "metadata": {},
   "outputs": [
    {
     "name": "stdout",
     "output_type": "stream",
     "text": [
      "Initial : array('i', [0, 1, 2])\n",
      "Extended: array('i', [0, 1, 2, 0, 1, 2])\n",
      "Slice   : array('i', [2, 0, 1])\n",
      "Iterator:\n",
      "[(0, 0), (1, 1), (2, 2), (3, 0), (4, 1), (5, 2)]\n"
     ]
    }
   ],
   "source": [
    "# 이용\n",
    "\n",
    "import array\n",
    "import pprint\n",
    "\n",
    "a = array.array('i', range(3))\n",
    "print('Initial :', a)\n",
    "\n",
    "a.extend(range(3))\n",
    "print('Extended:', a)\n",
    "\n",
    "print('Slice   :', a[2:5])\n",
    "\n",
    "print('Iterator:')\n",
    "print(list(enumerate(a)))\n"
   ]
  },
  {
   "cell_type": "markdown",
   "id": "e1280637",
   "metadata": {},
   "source": [
    "## heapq: Heap Sort Algorithm"
   ]
  },
  {
   "cell_type": "code",
   "execution_count": 21,
   "id": "3e83c5b0",
   "metadata": {},
   "outputs": [],
   "source": [
    "import heapq\n",
    "\n",
    "# 최소 힙 생성\n",
    "heap = []"
   ]
  },
  {
   "cell_type": "code",
   "execution_count": 22,
   "id": "2926aa3d",
   "metadata": {},
   "outputs": [
    {
     "name": "stdout",
     "output_type": "stream",
     "text": [
      "[1, 3, 7, 4]\n"
     ]
    }
   ],
   "source": [
    "# 원소 추가\n",
    "heapq.heappush(heap, 4)\n",
    "heapq.heappush(heap, 1)\n",
    "heapq.heappush(heap, 7)\n",
    "heapq.heappush(heap, 3)\n",
    "\n",
    "print(heap)"
   ]
  },
  {
   "cell_type": "code",
   "execution_count": 23,
   "id": "2594e44a",
   "metadata": {},
   "outputs": [
    {
     "name": "stdout",
     "output_type": "stream",
     "text": [
      "1\n",
      "[3, 4, 7]\n"
     ]
    }
   ],
   "source": [
    "print(heapq.heappop(heap))\n",
    "print(heap)"
   ]
  },
  {
   "cell_type": "code",
   "execution_count": 24,
   "id": "8d6f7b00",
   "metadata": {},
   "outputs": [
    {
     "name": "stdout",
     "output_type": "stream",
     "text": [
      "3\n",
      "[4, 7]\n"
     ]
    }
   ],
   "source": [
    "print(heapq.heappop(heap))\n",
    "print(heap)\n"
   ]
  },
  {
   "cell_type": "code",
   "execution_count": 25,
   "id": "60a1835d",
   "metadata": {},
   "outputs": [
    {
     "name": "stdout",
     "output_type": "stream",
     "text": [
      "4\n"
     ]
    }
   ],
   "source": [
    "# 최소값 삭제하지 않고 얻기\n",
    "\n",
    "print(heap[0])"
   ]
  },
  {
   "cell_type": "code",
   "execution_count": 26,
   "id": "73987738",
   "metadata": {},
   "outputs": [
    {
     "name": "stdout",
     "output_type": "stream",
     "text": [
      "[1, 3, 5, 4, 8, 7]\n"
     ]
    }
   ],
   "source": [
    "# 기존 리스트를 heap으로 변환\n",
    "heap = [4, 1, 7, 3, 8, 5]\n",
    "heapq.heapify(heap)\n",
    "print(heap)\n"
   ]
  },
  {
   "cell_type": "raw",
   "id": "28185364",
   "metadata": {},
   "source": [
    "# 최대 힙\n",
    "\n",
    "heapq 모듈은 최소 힙(min heap)을 기능만을 동작하기 때문에 최대 힙(max heap)으로 활용하려면 약간의 요령이 필요. \n",
    "즉, 힙에 튜플(tuple)를 원소로 추가하거나 삭제하면, 튜플 내에서 맨 앞에 있는 값을 기준으로 최소 힙이 구성되는 원리를 이용.\n",
    "\n",
    "따라서, 최대 힙을 만들려면 각 값에 대한 우선 순위를 구한 후, (우선 순위, 값) 구조의 튜플(tuple)을 힙에 추가하거나 삭제하면 됩니다. \n",
    "그리고 힙에서 값을 읽어올 때는 각 튜플에서 인덱스 1에 있는 값을 취하면 됩니다. (우선 순위에는 관심이 없으므로 )"
   ]
  },
  {
   "cell_type": "code",
   "execution_count": 27,
   "id": "2dc6bedb",
   "metadata": {},
   "outputs": [
    {
     "name": "stdout",
     "output_type": "stream",
     "text": [
      "8\n",
      "7\n",
      "5\n",
      "4\n",
      "3\n",
      "1\n"
     ]
    }
   ],
   "source": [
    "import heapq\n",
    "\n",
    "nums = [4, 1, 7, 3, 8, 5]\n",
    "heap = []\n",
    "\n",
    "for num in nums:\n",
    "    heapq.heappush(heap, (-num, num))  # (우선 순위, 값)\n",
    "\n",
    "while heap:\n",
    "    print(heapq.heappop(heap)[1])  # index 1"
   ]
  },
  {
   "cell_type": "code",
   "execution_count": 28,
   "id": "ba860ae8",
   "metadata": {},
   "outputs": [
    {
     "name": "stdout",
     "output_type": "stream",
     "text": [
      "4\n"
     ]
    }
   ],
   "source": [
    "# k번째 최대값/최소값 \n",
    "\n",
    "import heapq\n",
    "\n",
    "def kth_smallest(nums, k):\n",
    "  heap = []\n",
    "  for num in nums:\n",
    "    heapq.heappush(heap, num)\n",
    "\n",
    "  kth_min = None\n",
    "  for _ in range(k):\n",
    "    kth_min = heapq.heappop(heap)\n",
    "  return kth_min\n",
    "\n",
    "print(kth_smallest([4, 1, 7, 3, 8, 5], 3))\n"
   ]
  },
  {
   "cell_type": "code",
   "execution_count": 30,
   "id": "e3a0b6de",
   "metadata": {},
   "outputs": [
    {
     "name": "stdout",
     "output_type": "stream",
     "text": [
      "[1, 3, 4, 5, 7, 8]\n"
     ]
    }
   ],
   "source": [
    "# 힙 정렬\n",
    "\n",
    "import heapq\n",
    "\n",
    "def heap_sort(nums):\n",
    "  heap = []\n",
    "  for num in nums:\n",
    "    heapq.heappush(heap, num)\n",
    "\n",
    "  sorted_nums = []\n",
    "  while heap:\n",
    "    sorted_nums.append(heapq.heappop(heap))\n",
    "  return sorted_nums\n",
    "\n",
    "print(heap_sort([4, 1, 7, 3, 8, 5]))\n",
    "\n",
    "# 출처: https://www.daleseo.com/python-heapq/\n"
   ]
  },
  {
   "cell_type": "markdown",
   "id": "3b0b8e62",
   "metadata": {},
   "source": [
    "## bisect: Maintain Lists in Sorted Order"
   ]
  },
  {
   "cell_type": "code",
   "execution_count": 33,
   "id": "7f6036b5",
   "metadata": {},
   "outputs": [
    {
     "name": "stdout",
     "output_type": "stream",
     "text": [
      "New  Pos  Contents\n",
      "---  ---  --------\n",
      " 14    0 [14]\n",
      " 85    1 [14, 85]\n",
      " 77    1 [14, 77, 85]\n",
      " 26    1 [14, 26, 77, 85]\n",
      " 50    2 [14, 26, 50, 77, 85]\n",
      " 45    2 [14, 26, 45, 50, 77, 85]\n",
      " 66    4 [14, 26, 45, 50, 66, 77, 85]\n",
      " 79    6 [14, 26, 45, 50, 66, 77, 79, 85]\n",
      " 10    0 [10, 14, 26, 45, 50, 66, 77, 79, 85]\n",
      "  3    0 [3, 10, 14, 26, 45, 50, 66, 77, 79, 85]\n",
      " 84    9 [3, 10, 14, 26, 45, 50, 66, 77, 79, 84, 85]\n",
      " 77    8 [3, 10, 14, 26, 45, 50, 66, 77, 77, 79, 84, 85]\n",
      "  1    0 [1, 3, 10, 14, 26, 45, 50, 66, 77, 77, 79, 84, 85]\n"
     ]
    }
   ],
   "source": [
    "import bisect\n",
    "\n",
    "# A series of random numbers\n",
    "values = [14, 85, 77, 26, 50, 45, 66, 79, 10, 3, 84, 77, 1]\n",
    "\n",
    "print('New  Pos  Contents')\n",
    "print('---  ---  --------')\n",
    "\n",
    "l = []\n",
    "for i in values:\n",
    "    position = bisect.bisect(l, i)\n",
    "    bisect.insort(l, i)\n",
    "    print('{:3}  {:3}'.format(i, position), l)\n"
   ]
  },
  {
   "cell_type": "code",
   "execution_count": 34,
   "id": "44cdb9e8",
   "metadata": {},
   "outputs": [
    {
     "name": "stdout",
     "output_type": "stream",
     "text": [
      "New  Pos  Contents\n",
      "---  ---  --------\n",
      " 14    0 [14]\n",
      " 85    1 [14, 85]\n",
      " 77    1 [14, 77, 85]\n",
      " 26    1 [14, 26, 77, 85]\n",
      " 50    2 [14, 26, 50, 77, 85]\n",
      " 45    2 [14, 26, 45, 50, 77, 85]\n",
      " 66    4 [14, 26, 45, 50, 66, 77, 85]\n",
      " 79    6 [14, 26, 45, 50, 66, 77, 79, 85]\n",
      " 10    0 [10, 14, 26, 45, 50, 66, 77, 79, 85]\n",
      "  3    0 [3, 10, 14, 26, 45, 50, 66, 77, 79, 85]\n",
      " 84    9 [3, 10, 14, 26, 45, 50, 66, 77, 79, 84, 85]\n",
      " 77    7 [3, 10, 14, 26, 45, 50, 66, 77, 77, 79, 84, 85]\n",
      "  1    0 [1, 3, 10, 14, 26, 45, 50, 66, 77, 77, 79, 84, 85]\n"
     ]
    }
   ],
   "source": [
    "# 중복값 (duplicates) 처리\n",
    "\n",
    "import bisect\n",
    "\n",
    "# A series of random numbers\n",
    "values = [14, 85, 77, 26, 50, 45, 66, 79, 10, 3, 84, 77, 1]\n",
    "\n",
    "print('New  Pos  Contents')\n",
    "print('---  ---  --------')\n",
    "\n",
    "# Use bisect_left and insort_left.\n",
    "l = []\n",
    "for i in values:\n",
    "    position = bisect.bisect_left(l, i)\n",
    "    bisect.insort_left(l, i)\n",
    "    print('{:3}  {:3}'.format(i, position), l)\n"
   ]
  },
  {
   "cell_type": "markdown",
   "id": "bd0c874a",
   "metadata": {},
   "source": [
    "## queue: Thread-Safe FIFO Implementation"
   ]
  },
  {
   "cell_type": "markdown",
   "id": "41befa5c",
   "metadata": {},
   "source": [
    "### 기본형: FIFO Queue"
   ]
  },
  {
   "cell_type": "code",
   "execution_count": 35,
   "id": "417ec515",
   "metadata": {},
   "outputs": [
    {
     "name": "stdout",
     "output_type": "stream",
     "text": [
      "0 1 2 3 4 \n"
     ]
    }
   ],
   "source": [
    "# FIFO Queue\n",
    "\n",
    "import queue\n",
    "\n",
    "q = queue.Queue()\n",
    "\n",
    "for i in range(5):\n",
    "    q.put(i)\n",
    "\n",
    "while not q.empty():\n",
    "    print(q.get(), end=' ')\n",
    "print()\n"
   ]
  },
  {
   "cell_type": "markdown",
   "id": "0d53e66d",
   "metadata": {},
   "source": [
    "### LIFO Queue"
   ]
  },
  {
   "cell_type": "code",
   "execution_count": 36,
   "id": "eaeaf96b",
   "metadata": {},
   "outputs": [
    {
     "name": "stdout",
     "output_type": "stream",
     "text": [
      "4 3 2 1 0 \n"
     ]
    }
   ],
   "source": [
    "import queue\n",
    "\n",
    "q = queue.LifoQueue()\n",
    "\n",
    "for i in range(5):\n",
    "    q.put(i)\n",
    "\n",
    "while not q.empty():\n",
    "    print(q.get(), end=' ')\n",
    "print()\n"
   ]
  },
  {
   "cell_type": "markdown",
   "id": "e5b5b20f",
   "metadata": {},
   "source": [
    "### Priority Queue"
   ]
  },
  {
   "cell_type": "code",
   "execution_count": 37,
   "id": "0580bb8a",
   "metadata": {},
   "outputs": [
    {
     "name": "stdout",
     "output_type": "stream",
     "text": [
      "New job: Mid-level job\n",
      "New job: Low-level job\n",
      "New job: Important job\n",
      "Processing job: Important job\n",
      "Processing job: Mid-level job\n",
      "Processing job: Low-level job\n"
     ]
    }
   ],
   "source": [
    "import functools\n",
    "import queue\n",
    "import threading\n",
    "\n",
    "\n",
    "@functools.total_ordering\n",
    "class Job:\n",
    "\n",
    "    def __init__(self, priority, description):\n",
    "        self.priority = priority\n",
    "        self.description = description\n",
    "        print('New job:', description)\n",
    "        return\n",
    "\n",
    "    def __eq__(self, other):\n",
    "        try:\n",
    "            return self.priority == other.priority\n",
    "        except AttributeError:\n",
    "            return NotImplemented\n",
    "\n",
    "    def __lt__(self, other):\n",
    "        try:\n",
    "            return self.priority < other.priority\n",
    "        except AttributeError:\n",
    "            return NotImplemented\n",
    "\n",
    "\n",
    "q = queue.PriorityQueue()\n",
    "\n",
    "q.put(Job(3, 'Mid-level job'))\n",
    "q.put(Job(10, 'Low-level job'))\n",
    "q.put(Job(1, 'Important job'))\n",
    "\n",
    "\n",
    "def process_job(q):\n",
    "    while True:\n",
    "        next_job = q.get()\n",
    "        print('Processing job:', next_job.description)\n",
    "        q.task_done()\n",
    "\n",
    "\n",
    "workers = [\n",
    "    threading.Thread(target=process_job, args=(q,)),\n",
    "    threading.Thread(target=process_job, args=(q,)),\n",
    "]\n",
    "for w in workers:\n",
    "    w.setDaemon(True)\n",
    "    w.start()\n",
    "\n",
    "q.join()\n"
   ]
  },
  {
   "cell_type": "markdown",
   "id": "5a328497",
   "metadata": {},
   "source": [
    "## struct: Binary Data Structures "
   ]
  },
  {
   "cell_type": "code",
   "execution_count": null,
   "id": "00e9e1b6",
   "metadata": {},
   "outputs": [],
   "source": []
  },
  {
   "cell_type": "markdown",
   "id": "1bf1211e",
   "metadata": {},
   "source": [
    "## copy: Duplicate Objects "
   ]
  },
  {
   "cell_type": "code",
   "execution_count": null,
   "id": "920f3c5e",
   "metadata": {},
   "outputs": [],
   "source": []
  },
  {
   "cell_type": "markdown",
   "id": "a40a8c10",
   "metadata": {},
   "source": [
    "###  Shallow Copies"
   ]
  },
  {
   "cell_type": "code",
   "execution_count": null,
   "id": "fdf65a76",
   "metadata": {},
   "outputs": [],
   "source": []
  },
  {
   "cell_type": "markdown",
   "id": "d779f800",
   "metadata": {},
   "source": [
    "### Deep Copies"
   ]
  },
  {
   "cell_type": "code",
   "execution_count": null,
   "id": "425c4629",
   "metadata": {},
   "outputs": [],
   "source": []
  },
  {
   "cell_type": "code",
   "execution_count": null,
   "id": "361b2248",
   "metadata": {},
   "outputs": [],
   "source": []
  }
 ],
 "metadata": {
  "kernelspec": {
   "display_name": "Python 3",
   "language": "python",
   "name": "python3"
  },
  "language_info": {
   "codemirror_mode": {
    "name": "ipython",
    "version": 3
   },
   "file_extension": ".py",
   "mimetype": "text/x-python",
   "name": "python",
   "nbconvert_exporter": "python",
   "pygments_lexer": "ipython3",
   "version": "3.8.8"
  }
 },
 "nbformat": 4,
 "nbformat_minor": 5
}
