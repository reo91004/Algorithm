{
 "cells": [
  {
   "cell_type": "code",
   "execution_count": 1,
   "id": "46b286d5",
   "metadata": {},
   "outputs": [
    {
     "data": {
      "text/plain": [
       "120"
      ]
     },
     "execution_count": 1,
     "metadata": {},
     "output_type": "execute_result"
    }
   ],
   "source": [
    "def g(x):\n",
    "    if x==1:\n",
    "        return 1\n",
    "    else:\n",
    "        return x*g(x-1)\n",
    "\n",
    "g(5)"
   ]
  },
  {
   "cell_type": "code",
   "execution_count": 2,
   "id": "ebe0155f",
   "metadata": {},
   "outputs": [
    {
     "data": {
      "text/plain": [
       "120"
      ]
     },
     "execution_count": 2,
     "metadata": {},
     "output_type": "execute_result"
    }
   ],
   "source": [
    "def h(x,y):\n",
    "    if y==0:\n",
    "        return x\n",
    "    return h(x*y, y-1)\n",
    "\n",
    "h(5,4)"
   ]
  },
  {
   "cell_type": "code",
   "execution_count": 3,
   "id": "3d4b96b8",
   "metadata": {},
   "outputs": [],
   "source": [
    "# 기존 quickksort\n",
    "\n",
    "def partition(A,p,r):\n",
    "    x = A[r]\n",
    "    i = p -1\n",
    "    for j in range(p,r):\n",
    "        if A[j] <= x:\n",
    "            i += 1\n",
    "            A[i], A[j] = A[j], A[i]\n",
    "    A[i+1],A[r] = A[r], A[i+1]\n",
    "    return i+1"
   ]
  },
  {
   "cell_type": "code",
   "execution_count": 5,
   "id": "cc683a46",
   "metadata": {},
   "outputs": [],
   "source": [
    "def quicksort(A,p,r):\n",
    "    if p < r:\n",
    "        q = partition(A,p,r)\n",
    "        quicksort(A, p, q-1)\n",
    "        quicksort(A, q+1, r)"
   ]
  },
  {
   "cell_type": "code",
   "execution_count": 6,
   "id": "05041f2f",
   "metadata": {},
   "outputs": [],
   "source": [
    "def quicksort_tail(A,p,r):\n",
    "    while p < r:\n",
    "        q = partition(A,p,r)\n",
    "        print(p, q-1)\n",
    "        quicksort_tail(A,p,q-1)\n",
    "        p = q+1"
   ]
  },
  {
   "cell_type": "code",
   "execution_count": 7,
   "id": "cd48ba9f",
   "metadata": {},
   "outputs": [],
   "source": [
    "# 최종\n",
    "\n",
    "def quicksort_final(A,p,r):\n",
    "    while p < r:\n",
    "        q = partition(A,p,r)\n",
    "        if q -p < r -q:\n",
    "            quicksort_final(A, p, q-1)\n",
    "            p = q+1\n",
    "        else:\n",
    "            quicksort_final(A, q+1, r)\n",
    "            r = q -1"
   ]
  },
  {
   "cell_type": "code",
   "execution_count": 12,
   "id": "1ad26db0",
   "metadata": {},
   "outputs": [
    {
     "data": {
      "text/plain": [
       "[1, 2, 3, 4, 5, 6, 7, 8, 9, 10]"
      ]
     },
     "execution_count": 12,
     "metadata": {},
     "output_type": "execute_result"
    }
   ],
   "source": [
    "A = [5,4,3,2,1,10,9,8,7,6]\n",
    "n = len(A)\n",
    "\n",
    "quicksort(A,0,n-1)\n",
    "A"
   ]
  },
  {
   "cell_type": "code",
   "execution_count": 13,
   "id": "f7c8dc75",
   "metadata": {},
   "outputs": [
    {
     "name": "stdout",
     "output_type": "stream",
     "text": [
      "0 8\n",
      "0 7\n",
      "0 6\n",
      "0 5\n",
      "0 4\n",
      "0 3\n",
      "0 2\n",
      "0 1\n",
      "0 0\n"
     ]
    }
   ],
   "source": [
    "quicksort_tail(A, 0, n-1)"
   ]
  },
  {
   "cell_type": "code",
   "execution_count": 15,
   "id": "d8f6eb9f",
   "metadata": {},
   "outputs": [
    {
     "data": {
      "text/plain": [
       "[1, 2, 3, 4, 5, 6, 7, 8, 9, 10]"
      ]
     },
     "execution_count": 15,
     "metadata": {},
     "output_type": "execute_result"
    }
   ],
   "source": [
    "quicksort_final(A, 0, n-1)\n",
    "A"
   ]
  },
  {
   "cell_type": "code",
   "execution_count": null,
   "id": "1d57939d",
   "metadata": {},
   "outputs": [],
   "source": []
  }
 ],
 "metadata": {
  "kernelspec": {
   "display_name": "Python 3",
   "language": "python",
   "name": "python3"
  },
  "language_info": {
   "codemirror_mode": {
    "name": "ipython",
    "version": 3
   },
   "file_extension": ".py",
   "mimetype": "text/x-python",
   "name": "python",
   "nbconvert_exporter": "python",
   "pygments_lexer": "ipython3",
   "version": "3.8.8"
  }
 },
 "nbformat": 4,
 "nbformat_minor": 5
}
