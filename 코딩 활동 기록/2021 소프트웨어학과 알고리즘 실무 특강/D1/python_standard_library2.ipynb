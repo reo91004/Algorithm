{
 "cells": [
  {
   "cell_type": "markdown",
   "id": "423c4169",
   "metadata": {},
   "source": [
    "# Algorithms"
   ]
  },
  {
   "cell_type": "markdown",
   "id": "c204991b",
   "metadata": {},
   "source": [
    "## functools: Tools for Manipulating Functions"
   ]
  },
  {
   "cell_type": "code",
   "execution_count": null,
   "id": "3dc6acc6",
   "metadata": {},
   "outputs": [],
   "source": []
  },
  {
   "cell_type": "markdown",
   "id": "d392bacf",
   "metadata": {},
   "source": [
    "## itertools: Iterator Functions"
   ]
  },
  {
   "cell_type": "markdown",
   "id": "2d4c699c",
   "metadata": {},
   "source": [
    "### Merging and Splitting Iterators"
   ]
  },
  {
   "cell_type": "code",
   "execution_count": 1,
   "id": "45cf2b09",
   "metadata": {},
   "outputs": [
    {
     "name": "stdout",
     "output_type": "stream",
     "text": [
      "1 2 3 a b c \n"
     ]
    }
   ],
   "source": [
    "# Using chain()\n",
    "\n",
    "from itertools import *\n",
    "\n",
    "for i in chain([1, 2, 3], ['a', 'b', 'c']):\n",
    "    print(i, end=' ')\n",
    "print()"
   ]
  },
  {
   "cell_type": "code",
   "execution_count": 2,
   "id": "22cd89b6",
   "metadata": {},
   "outputs": [
    {
     "name": "stdout",
     "output_type": "stream",
     "text": [
      "1 2 3 a b c \n"
     ]
    }
   ],
   "source": [
    "from itertools import *\n",
    "\n",
    "\n",
    "def make_iterables_to_chain():\n",
    "    yield [1, 2, 3]\n",
    "    yield ['a', 'b', 'c']\n",
    "\n",
    "\n",
    "for i in chain.from_iterable(make_iterables_to_chain()):\n",
    "    print(i, end=' ')\n",
    "print()"
   ]
  },
  {
   "cell_type": "code",
   "execution_count": 3,
   "id": "d62394c1",
   "metadata": {},
   "outputs": [
    {
     "name": "stdout",
     "output_type": "stream",
     "text": [
      "(1, 'a')\n",
      "(2, 'b')\n",
      "(3, 'c')\n"
     ]
    }
   ],
   "source": [
    "# Using zip()\n",
    "\n",
    "for i in zip([1, 2, 3], ['a', 'b', 'c']):\n",
    "    print(i)"
   ]
  },
  {
   "cell_type": "code",
   "execution_count": 4,
   "id": "2fafbbde",
   "metadata": {},
   "outputs": [
    {
     "name": "stdout",
     "output_type": "stream",
     "text": [
      "zip stops early:\n",
      "[(0, 0), (1, 1)]\n",
      "\n",
      "zip_longest processes all of the values:\n",
      "[(0, 0), (1, 1), (2, None)]\n"
     ]
    }
   ],
   "source": [
    "from itertools import *\n",
    "\n",
    "r1 = range(3)\n",
    "r2 = range(2)\n",
    "\n",
    "print('zip stops early:')\n",
    "print(list(zip(r1, r2)))\n",
    "\n",
    "r1 = range(3)\n",
    "r2 = range(2)\n",
    "\n",
    "print('\\nzip_longest processes all of the values:')\n",
    "print(list(zip_longest(r1, r2)))\n"
   ]
  },
  {
   "cell_type": "code",
   "execution_count": 5,
   "id": "f9d0c187",
   "metadata": {},
   "outputs": [
    {
     "name": "stdout",
     "output_type": "stream",
     "text": [
      "Stop at 5:\n",
      "0 1 2 3 4 \n",
      "\n",
      "Start at 5, Stop at 10:\n",
      "5 6 7 8 9 \n",
      "\n",
      "By tens to 100:\n",
      "0 10 20 30 40 50 60 70 80 90 \n",
      "\n"
     ]
    }
   ],
   "source": [
    "# Using islice()\n",
    "\n",
    "from itertools import *\n",
    "\n",
    "print('Stop at 5:')\n",
    "for i in islice(range(100), 5):\n",
    "    print(i, end=' ')\n",
    "print('\\n')\n",
    "\n",
    "print('Start at 5, Stop at 10:')\n",
    "for i in islice(range(100), 5, 10):\n",
    "    print(i, end=' ')\n",
    "print('\\n')\n",
    "\n",
    "print('By tens to 100:')\n",
    "for i in islice(range(100), 0, 100, 10):\n",
    "    print(i, end=' ')\n",
    "print('\\n')\n"
   ]
  },
  {
   "cell_type": "markdown",
   "id": "d7890a13",
   "metadata": {},
   "source": [
    "### 입력값 변환"
   ]
  },
  {
   "cell_type": "code",
   "execution_count": 6,
   "id": "13135e41",
   "metadata": {},
   "outputs": [
    {
     "name": "stdout",
     "output_type": "stream",
     "text": [
      "Doubles:\n",
      "0\n",
      "2\n",
      "4\n",
      "6\n",
      "8\n"
     ]
    }
   ],
   "source": [
    "# Using map()\n",
    "\n",
    "def times_two(x):\n",
    "    return 2 * x\n",
    "\n",
    "\n",
    "def multiply(x, y):\n",
    "    return (x, y, x * y)\n",
    "\n",
    "\n",
    "print('Doubles:')\n",
    "for i in map(times_two, range(5)):\n",
    "    print(i)"
   ]
  },
  {
   "cell_type": "code",
   "execution_count": 7,
   "id": "393c0cff",
   "metadata": {},
   "outputs": [
    {
     "name": "stdout",
     "output_type": "stream",
     "text": [
      "\n",
      "Multiples:\n",
      "0 * 5 = 0\n",
      "1 * 6 = 6\n",
      "2 * 7 = 14\n",
      "3 * 8 = 24\n",
      "4 * 9 = 36\n",
      "\n",
      "Stopping:\n",
      "(0, 0, 0)\n",
      "(1, 1, 1)\n"
     ]
    }
   ],
   "source": [
    "print('\\nMultiples:')\n",
    "r1 = range(5)\n",
    "r2 = range(5, 10)\n",
    "for i in map(multiply, r1, r2):\n",
    "    print('{:d} * {:d} = {:d}'.format(*i))\n",
    "\n",
    "print('\\nStopping:')\n",
    "r1 = range(5)\n",
    "r2 = range(2)\n",
    "for i in map(multiply, r1, r2):\n",
    "    print(i)\n"
   ]
  },
  {
   "cell_type": "markdown",
   "id": "bdb171fb",
   "metadata": {},
   "source": [
    "### 새 값의 출력"
   ]
  },
  {
   "cell_type": "code",
   "execution_count": 8,
   "id": "e099df32",
   "metadata": {},
   "outputs": [
    {
     "name": "stdout",
     "output_type": "stream",
     "text": [
      "(1, 'a')\n",
      "(2, 'b')\n",
      "(3, 'c')\n"
     ]
    }
   ],
   "source": [
    "# Using count() \n",
    "\n",
    "\n",
    "from itertools import *\n",
    "\n",
    "for i in zip(count(1), ['a', 'b', 'c']):\n",
    "    print(i)"
   ]
  },
  {
   "cell_type": "markdown",
   "id": "057332d1",
   "metadata": {},
   "source": [
    "### Filtering"
   ]
  },
  {
   "cell_type": "code",
   "execution_count": 9,
   "id": "2de98b0a",
   "metadata": {},
   "outputs": [
    {
     "name": "stdout",
     "output_type": "stream",
     "text": [
      "Testing: -1\n",
      "Yielding: -1\n",
      "Testing: 0\n",
      "Yielding: 0\n",
      "Testing: 1\n",
      "Testing: 2\n",
      "Testing: -2\n",
      "Yielding: -2\n"
     ]
    }
   ],
   "source": [
    "# Using filter()\n",
    "\n",
    "from itertools import *\n",
    "\n",
    "\n",
    "def check_item(x):\n",
    "    print('Testing:', x)\n",
    "    return x < 1\n",
    "\n",
    "\n",
    "for i in filter(check_item, [-1, 0, 1, 2, -2]):\n",
    "    print('Yielding:', i)\n"
   ]
  },
  {
   "cell_type": "code",
   "execution_count": 12,
   "id": "665c20e0",
   "metadata": {},
   "outputs": [
    {
     "name": "stdout",
     "output_type": "stream",
     "text": [
      "[0, 1, 3, 6, 10]\n",
      "['a', 'ab', 'abc', 'abcd', 'abcde']\n"
     ]
    }
   ],
   "source": [
    "# combine values\n",
    "\n",
    "\n",
    "from itertools import *\n",
    "\n",
    "print(list(accumulate(range(5))))\n",
    "print(list(accumulate('abcde')))\n"
   ]
  },
  {
   "cell_type": "markdown",
   "id": "f2f49039",
   "metadata": {},
   "source": [
    "## operator: 내장Built-In Operator로의  Functional Interface"
   ]
  },
  {
   "cell_type": "code",
   "execution_count": null,
   "id": "877130d9",
   "metadata": {},
   "outputs": [],
   "source": []
  },
  {
   "cell_type": "markdown",
   "id": "bb42ef4f",
   "metadata": {},
   "source": [
    "## contextlib: Context Manager Utilities"
   ]
  },
  {
   "cell_type": "code",
   "execution_count": null,
   "id": "ab755aba",
   "metadata": {},
   "outputs": [],
   "source": []
  }
 ],
 "metadata": {
  "kernelspec": {
   "display_name": "Python 3",
   "language": "python",
   "name": "python3"
  },
  "language_info": {
   "codemirror_mode": {
    "name": "ipython",
    "version": 3
   },
   "file_extension": ".py",
   "mimetype": "text/x-python",
   "name": "python",
   "nbconvert_exporter": "python",
   "pygments_lexer": "ipython3",
   "version": "3.8.8"
  }
 },
 "nbformat": 4,
 "nbformat_minor": 5
}
